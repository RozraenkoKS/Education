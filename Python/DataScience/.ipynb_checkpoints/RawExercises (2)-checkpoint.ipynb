{
  "nbformat": 4,
  "nbformat_minor": 0,
  "metadata": {
    "colab": {
      "provenance": [],
      "collapsed_sections": [
        "OUkKho9aRObV",
        "yQp6azYJR1lY",
        "6jttkL_wUi-K",
        "Afs-29vQjPYi",
        "a0s-GFUZqqBq",
        "bXDyAdHXqAvZ",
        "YXMt0FIUxqZD",
        "J-sS1Azczd7D",
        "b0Pc8hcozl7u",
        "52oQ_Dxb02sa",
        "k66nXMPW02kN",
        "UcKAsDMt02bN",
        "c4ZrKXzx02SH",
        "mSsJBWxXoqHH",
        "1w9dQyXgIpX9",
        "V8200y0_Kt0W"
      ]
    },
    "kernelspec": {
      "name": "python3",
      "display_name": "Python 3"
    },
    "language_info": {
      "name": "python"
    }
  },
  "cells": [
    {
      "cell_type": "code",
      "execution_count": null,
      "metadata": {
        "id": "yHnpUCjVe164"
      },
      "outputs": [],
      "source": [
        "import numpy as np\n",
        "import matplotlib.pyplot as plt\n",
        "import seaborn as sns\n",
        "import pandas as pd\n",
        "\n",
        "import random\n",
        "\n",
        "sns.set_palette('Set2')"
      ]
    },
    {
      "cell_type": "markdown",
      "source": [
        "# Блок numpy"
      ],
      "metadata": {
        "id": "Xjml__Nhg6K0"
      }
    },
    {
      "cell_type": "markdown",
      "source": [
        "## Магия чисел и линала\n",
        "Используйте библиотеку <code>numpy</code> для задач в этом блоке  \n"
      ],
      "metadata": {
        "id": "bsy2fq-2RES1"
      }
    },
    {
      "cell_type": "markdown",
      "source": [
        "### Задача 1  \n",
        "1) Создайте одномерный массив размером 10, составленный из чисел от 1 до 10  \n",
        "2) Преобразуйте его в двумерный массив размером 2х5  "
      ],
      "metadata": {
        "id": "OUkKho9aRObV"
      }
    },
    {
      "cell_type": "code",
      "source": [],
      "metadata": {
        "id": "7dlxlPh3g_Hh"
      },
      "execution_count": null,
      "outputs": []
    },
    {
      "cell_type": "markdown",
      "source": [
        "### Задача 2  \n",
        "1) Создайте 2 массива одинаковой длины и найдите их сумму, разность, произведение  \n",
        "2) Найдите среднее, медиану, дисперсию и стандартное отклонение  \n"
      ],
      "metadata": {
        "id": "yQp6azYJR1lY"
      }
    },
    {
      "cell_type": "code",
      "source": [],
      "metadata": {
        "id": "Us2ZsF17UnBR"
      },
      "execution_count": null,
      "outputs": []
    },
    {
      "cell_type": "markdown",
      "source": [
        "### Задача 3  \n",
        "На вход дан одномерный массив $X$. Напишите функцию, которая выдает на вход массив из кумулятивных средних массива $X$. Иначе говоря, если $X = \\left(x_1, x_2, \\ldots, x_n\\right)$, то ответ должен быть равен $s = \\left(s_1, s_2, \\ldots, s_n\\right)$,  где $s_k=\\frac{x_1+...+x_k}{k}$.\n",
        "\n",
        "<details>\n",
        "  <summary>Подсказка</summary>\n",
        "\n",
        "Вам поможет функция <code>cumsum</code>  \n",
        "Пример: [15, 7, 22, 11, 30, 5, 18] -> [15.0, 11.0, 14.66666667, 13.25, 15.0, 12.66666667, 13.71428571]\n",
        "</details>"
      ],
      "metadata": {
        "id": "6jttkL_wUi-K"
      }
    },
    {
      "cell_type": "code",
      "source": [
        "sample = [4, 23, 69, 90, 5, 45, 19, 21]"
      ],
      "metadata": {
        "id": "3xw71CRzUoRE"
      },
      "execution_count": null,
      "outputs": []
    },
    {
      "cell_type": "markdown",
      "source": [
        "### Задача 4  \n",
        "Задан массив $X$. Для массива $X$ необходимо сделать следующее преобразование.\n",
        "\n",
        "Необходимо написать функцию `transform`, которая построит новый массив, где все элементы с нечетными индексами требуется заменить на число 1. Все элементы с четными индексами нужно возвести в куб. Затем записать элементы в обратном порядке относительно их позиций.\n",
        "\n",
        "Пример:\n",
        "[3, 1, 4, -1, 2, 3, 0] -> [27, 1, 64, 1, 8, 1, 0] -> [0, 1, 8, 1, 64, 1, 27]"
      ],
      "metadata": {
        "id": "S_eBydXtU6O6"
      }
    },
    {
      "cell_type": "code",
      "source": [
        "sample = [56, 20, 12, 10, 6, 84, 39, 57]"
      ],
      "metadata": {
        "id": "aDfz_J2AVgwk"
      },
      "execution_count": null,
      "outputs": []
    },
    {
      "cell_type": "markdown",
      "source": [
        "### Задача 5  \n",
        "Сгенерируйте два вектора `a` и `b` в трехмерном пространстве. Заполните их случайными числами. Реализуйте их скалярное произведение с помощью  `numpy`.\n",
        "\n",
        "\n",
        "<details>\n",
        "  <summary>Подсказка</summary>\n",
        "\n",
        "  Для генерации можно использовать `np.random.sample`\n",
        "</details>"
      ],
      "metadata": {
        "id": "7KxoGsBqWzRn"
      }
    },
    {
      "cell_type": "code",
      "source": [
        "# Генерация векторов\n",
        "a = <...>\n",
        "b = <...>"
      ],
      "metadata": {
        "id": "ix-gXHSNW9yL"
      },
      "execution_count": null,
      "outputs": []
    },
    {
      "cell_type": "code",
      "source": [
        "def no_numpy_scalar(v1, v2):\n",
        "    \"\"\"\n",
        "    v1: list[n] --- первый вектор-аргумент длиной n\n",
        "    v2: list[n] --- второй вектор-аргумент длиной n\n",
        "    return c: float  --- результат скалярного произведения векторов v1 и v2\n",
        "\n",
        "    Функция принимает на вход два вектора длиной n\n",
        "    Возвращает число, равное их скалярному произведению v1 и v2\n",
        "\n",
        "    Реализуйте скалярное умножение векторов, не используя функции из пакета numpy\n",
        "\n",
        "    \"\"\"\n",
        "    result = sum(x * y for x, y in zip(v1, v2))\n",
        "    return result"
      ],
      "metadata": {
        "id": "svni8YY3XMri"
      },
      "execution_count": null,
      "outputs": []
    },
    {
      "cell_type": "code",
      "source": [
        "def numpy_scalar(v1, v2):\n",
        "    \"\"\"\n",
        "    v1: np.array[n] --- первый вектор-аргумент длиной n\n",
        "    v2: np.array[n] --- второй вектор-аргумент длиной n\n",
        "    return c: float  --- результат скалярного произведения векторов v1 и v2\n",
        "\n",
        "    Функция принимает на вход два вектора длиной n\n",
        "    Возвращает число, равное их скалярному произведению\n",
        "\n",
        "    Реализуйте скалярное умножение векторов, используя функции из пакета numpy\n",
        "    \"\"\"\n",
        "    result = <...>\n",
        "    return result"
      ],
      "metadata": {
        "id": "kmpE6I50XOIQ"
      },
      "execution_count": null,
      "outputs": []
    },
    {
      "cell_type": "code",
      "source": [
        "product_1 = no_numpy_scalar(a,b)\n",
        "product_2 = numpy_scalar(a,b)\n",
        "\n",
        "# проверим корректность:\n",
        "assert np.allclose(product_1, product_2)"
      ],
      "metadata": {
        "id": "28cN0IuIXqIH"
      },
      "execution_count": null,
      "outputs": []
    },
    {
      "cell_type": "code",
      "source": [
        "%time product_1 = no_numpy_scalar(a,b)\n",
        "%time product_2 = numpy_scalar(a,b)"
      ],
      "metadata": {
        "id": "E16WDlWqXPre"
      },
      "execution_count": null,
      "outputs": []
    },
    {
      "cell_type": "markdown",
      "source": [
        "## Нео и матрицы"
      ],
      "metadata": {
        "id": "4o9wxrLMdzW9"
      }
    },
    {
      "cell_type": "markdown",
      "source": [
        "### Задача 6  \n",
        "Для генерации матриц используем модуль random &mdash; он используется для генерации случайных объектов, функция sample создает случайную выборку. В качестве аргумента ей передается кортеж $\\left(i,j\\right)$, здесь i &mdash; число строк, j &mdash; число столбцов.  \n",
        "\n",
        "Выведите размерность $\\left(ранг\\right)$ каждой матрицы с помощью функции `ndim`. Используйте функцию `shape`, что она вывела? Посмотрите на тип переменной, и сравните с типом объекта `numpy` созданной с помощью функции `matrix`"
      ],
      "metadata": {
        "id": "e8WDLWsWYdIP"
      }
    },
    {
      "cell_type": "code",
      "source": [
        "a = np.random.sample((100, 100))\n",
        "b = np.random.sample((100, 100))\n",
        "\n",
        "<...>"
      ],
      "metadata": {
        "id": "MDt6a4A0YcLw"
      },
      "execution_count": null,
      "outputs": []
    },
    {
      "cell_type": "markdown",
      "source": [
        "### Задача 7  \n",
        "Вам предлагается перемножить две квадратные матрицы двумя способами &mdash; без использования пакета `numpy` и с ним. Сравните время выполнения."
      ],
      "metadata": {
        "id": "nKtVdBEEZeoQ"
      }
    },
    {
      "cell_type": "code",
      "source": [
        "def no_numpy_mult(a, b):\n",
        "    \"\"\"\n",
        "    A: list of \"size\" lists, each contains \"size\" floats --- первая матрица-аргумент\n",
        "    B: list of \"size\" lists, each contains \"size\" floats --- вторая матрица-аргумент\n",
        "    return C: list of \"size\" lists, each contains \"size\" floats --- матрица, являющаяся результатом умножения матриц a и b\n",
        "\n",
        "    Функция принимает на вход две матрицы: A и B размерностью size x size\n",
        "    Возвращает матрицу их произведения A * B = C\n",
        "\n",
        "    \"\"\"\n",
        "    size = len(a)\n",
        "    result = [[0] * size for _ in range(size)]\n",
        "    for i in range(size):\n",
        "        for j in range(size):\n",
        "            for k in range(size):\n",
        "                result[i][j] += a[i][k] * b[k][j]\n",
        "    return result"
      ],
      "metadata": {
        "id": "PT_paKKNZeJ5"
      },
      "execution_count": null,
      "outputs": []
    },
    {
      "cell_type": "code",
      "source": [
        "def numpy_mult(a, b):\n",
        "    \"\"\"\n",
        "    A: np.ndarray[size, size]              --- первая матрица-аргумент\n",
        "    B: np.ndarray[size, size]              --- вторая матрица-аргумент\n",
        "    return C: np.array[size, size]       --- матрица, являющаяся результатом умножения матриц A и B\n",
        "\n",
        "    Функция принимает на вход две матрицы: A и B размерностью size x size\n",
        "    Возвращает матрицу их произведения A * B = C\n",
        "\n",
        "    Реализуйте умножение матриц, используя функции из пакета numpy\n",
        "    \"\"\"\n",
        "    pass"
      ],
      "metadata": {
        "id": "CuGOnaUhZpO7"
      },
      "execution_count": null,
      "outputs": []
    },
    {
      "cell_type": "code",
      "source": [
        "M1 = no_numpy_mult(a, b)\n",
        "M2 = numpy_mult(a, b)\n",
        "\n",
        "# проверим корректность\n",
        "assert np.allclose(np.array(M1), M2)"
      ],
      "metadata": {
        "id": "eyOt5wVdZsAY"
      },
      "execution_count": null,
      "outputs": []
    },
    {
      "cell_type": "code",
      "source": [
        "%%time\n",
        "# засечем время работы функции без NumPy\n",
        "M1 = no_numpy_mult(a, b)"
      ],
      "metadata": {
        "id": "da60s-DJZuT2"
      },
      "execution_count": null,
      "outputs": []
    },
    {
      "cell_type": "code",
      "source": [
        "%%time\n",
        "# засечем время работы функции с NumPy\n",
        "M2 = numpy_mult(a, b)"
      ],
      "metadata": {
        "id": "SXIQAv6FZ7X4"
      },
      "execution_count": null,
      "outputs": []
    },
    {
      "cell_type": "markdown",
      "source": [
        "### Задача 8  \n",
        "Создайте случайно заполненную матрицу 5x5 и проведите следующие действия с ней:  \n",
        "1) Транспонированние  \n",
        "2) Нахождение детерминанта  \n",
        "3) Нахождение обртаной матрицы    \n",
        "4) Создайте и обедините 2 матрицы сначала по столбцу, а потом по строкам  \n",
        "5) Разбейте исходную матрицу   "
      ],
      "metadata": {
        "id": "4GqcvrIwafr0"
      }
    },
    {
      "cell_type": "code",
      "source": [
        "##YOUR CODE\n",
        "\n",
        "matrix = <...>\n",
        "transposed_matrix = <...>\n",
        "det = <...>\n",
        "inv_matrix = <...>\n",
        "\n",
        "print(\"Исходная матрица:\\n\", matrix)\n",
        "print(\"Транспонированная матрица:\\n\", transposed_matrix)\n",
        "print(\"Определитель:\\n\", det)\n",
        "print(\"Обратная матрица:\\n\", inv_matrix)"
      ],
      "metadata": {
        "id": "feXEXpgIbrba"
      },
      "execution_count": null,
      "outputs": []
    },
    {
      "cell_type": "code",
      "source": [
        "##YOUR CODE\n",
        "\n",
        "coancated_matrix_col = <...>\n",
        "coancated_matrix_row = <...>\n",
        "splited_matrix_col = <...>\n",
        "coancated_matrix_row = <...>\n",
        "\n",
        "print(\"Объединение по столбцу\\n\", coancated_matrix_col)\n",
        "print(\"Объединение по строке\\n\", coancated_matrix_row)\n",
        "print(\"Разбитая матрица по столбцу\\n\", splited_matrix_col)\n",
        "print(\"Разбитая матрица по строке\\n\", coancated_matrix_row)"
      ],
      "metadata": {
        "id": "tSqhJYNWc1y2"
      },
      "execution_count": null,
      "outputs": []
    },
    {
      "cell_type": "markdown",
      "source": [
        "# Блок matplotlib/seaborn"
      ],
      "metadata": {
        "id": "q8rToRFId8z7"
      }
    },
    {
      "cell_type": "markdown",
      "source": [
        "## Давайте рисовать(matplotlib)"
      ],
      "metadata": {
        "id": "x9KXNMqceDtp"
      }
    },
    {
      "cell_type": "markdown",
      "source": [
        "### Задача 1  \n",
        "Нарисуйте график синусоидальной волны для диапазона значений от 0 до 2$\\pi$. Добавьте заголовок, метки осей и сетку.\n",
        "\n",
        "<details>\n",
        "  <summary>Подсказка</summary>\n",
        "\n",
        "  Используйте функции `np.linspace` для создания массива значений и `np.sin` для вычисления синуса.\n",
        "</details>\n"
      ],
      "metadata": {
        "id": "ysgVejGCgXPP"
      }
    },
    {
      "cell_type": "code",
      "source": [
        "# Создание массива значений от 0 до 2π\n",
        "\n",
        "<...>"
      ],
      "metadata": {
        "id": "c8nWBm92fdth"
      },
      "execution_count": null,
      "outputs": []
    },
    {
      "cell_type": "code",
      "source": [
        "# Вычисление синуса для каждого значения в массиве\n",
        "\n",
        "<...>"
      ],
      "metadata": {
        "id": "g--UHmP02Sqp"
      },
      "execution_count": null,
      "outputs": []
    },
    {
      "cell_type": "code",
      "source": [
        "# Построение графика\n",
        "\n",
        "<...>"
      ],
      "metadata": {
        "id": "F-F53S9U2UVJ"
      },
      "execution_count": null,
      "outputs": []
    },
    {
      "cell_type": "markdown",
      "source": [
        "### Задача 2  \n",
        "Сгенерируйте 1000 случайных чисел из нормального распределения и постройте гистограмму их распределения. Добавьте линию нормального распределения поверх гистограммы.\n",
        "\n",
        "\n",
        "<details>\n",
        "  <summary>Подсказка</summary>\n",
        "\n",
        "  Вспоните про правило 3$\\sigma$  \n",
        "  Нормальное распределение y = $\\frac{1}{\\sqrt{2\\pi}} \\cdot exp(-\\frac{1}{2}(\\frac{x - \\mu}{\\sigma})^2)$\n",
        "</details>\n"
      ],
      "metadata": {
        "id": "Dem072PFg42B"
      }
    },
    {
      "cell_type": "code",
      "source": [
        "# Генерация 1000 случайных чисел из нормального распределения\n",
        "\n",
        "<...>"
      ],
      "metadata": {
        "id": "UfN_mC0mi8pG"
      },
      "execution_count": null,
      "outputs": []
    },
    {
      "cell_type": "code",
      "source": [
        "# Добавление линии нормального распределения\n",
        "mu, std = <...> # среднее и стандартное отклонение\n",
        "x = np.linspace(<...>)\n",
        "y = <...> # линия нормального распределения"
      ],
      "metadata": {
        "id": "DOSQXlnz3rwH"
      },
      "execution_count": null,
      "outputs": []
    },
    {
      "cell_type": "code",
      "source": [
        "# Построение гистограммы\n",
        "\n",
        "<...>"
      ],
      "metadata": {
        "id": "C5UqwlwK4bWe"
      },
      "execution_count": null,
      "outputs": []
    },
    {
      "cell_type": "markdown",
      "source": [
        "### Задача 3  \n",
        "Создайте массив sizes, который будет состоять из $10^2, 10^3, 10^4, 10^5$. Числа должны быть целыми.  \n",
        "\n",
        "Постройте `plt.subplots` в виде строки из 4 графиков. Параметр `bins` укажите 100. На каждом графике отрисуйте гистограмму массива заданного размера из массива sizes. Подпишите, какой размер массивы к какому графику относится.\n",
        "\n",
        "<details>\n",
        "  <summary>Подсказка</summary>\n",
        "\n",
        " Для создания массива можно воспользоваться `np.logspace`  \n",
        " Подписи осей создаются как `axs[i].set('параметры')`\n",
        "</details>"
      ],
      "metadata": {
        "id": "oe3PKLRZi7s_"
      }
    },
    {
      "cell_type": "code",
      "source": [
        "sizes = <...>"
      ],
      "metadata": {
        "id": "j0_6488Oi7Dh"
      },
      "execution_count": null,
      "outputs": []
    },
    {
      "cell_type": "code",
      "source": [
        "fig, axs = plt.subplots(figsize='размеры графика', ncols='колличество колонок')\n",
        "\n",
        "<...>\n",
        "\n",
        "plt.show()"
      ],
      "metadata": {
        "id": "V6A9XXLc7cDv"
      },
      "execution_count": null,
      "outputs": []
    },
    {
      "cell_type": "markdown",
      "source": [
        "На какое распределение похоже?"
      ],
      "metadata": {
        "id": "hs9bR3vsjMys"
      }
    },
    {
      "cell_type": "markdown",
      "source": [
        "### Задача 4  \n",
        "Создайте анимацию, показывающую распространение волны в двумерной плоскости. Волна должна начинаться из центра и распространяться во все стороны. Используйте цветовую карту для визуализации амплитуды волны.  \n",
        "\n",
        "Требования:\n",
        "\n",
        "1) Используйте библиотеку Matplotlib для создания анимации.  \n",
        "2) Волна должна быть синусоидальной.  \n",
        "3) Анимация должна показывать распространение волны от центра к краям.  \n",
        "4) Используйте цветовую карту для визуализации амплитуды волны.  \n",
        "5) Добавьте заголовок и цветовую шкалу.  \n",
        "\n",
        "<details>\n",
        "  <summary>Подсказка</summary>\n",
        "\n",
        "Используйте `numpy.meshgrid` для создания сетки координат.  \n",
        "Используйте `matplotlib.animation.FuncAnimation` для создания анимации.  \n",
        "Используйте `matplotlib.pyplot.imshow` или `matplotlib.pyplot.pcolormesh` для визуализации волны.  \n",
        "</details>\n"
      ],
      "metadata": {
        "id": "Afs-29vQjPYi"
      }
    },
    {
      "cell_type": "markdown",
      "source": [
        "Для начала построим статическую картину распределения"
      ],
      "metadata": {
        "id": "E5AjXHaF0L8f"
      }
    },
    {
      "cell_type": "code",
      "source": [
        "# Параметры волны\n",
        "size = <...> # размер сетки\n",
        "amplitude = <...> # амплитуда волны\n",
        "frequency = <...> # частота волны"
      ],
      "metadata": {
        "id": "17u1HA4gzZR0"
      },
      "execution_count": null,
      "outputs": []
    },
    {
      "cell_type": "code",
      "source": [
        "# Создаем сетку координат\n",
        "x = np.linspace()\n",
        "y = np.linspace()\n",
        "X, Y = <...>\n",
        "\n",
        "# Функция волны\n",
        "Z = <...>"
      ],
      "metadata": {
        "id": "WB23P5Y6zatg"
      },
      "execution_count": null,
      "outputs": []
    },
    {
      "cell_type": "code",
      "source": [
        "# Построение статического изображения\n",
        "\n",
        "<...>"
      ],
      "metadata": {
        "id": "kCcchybeyo0h"
      },
      "execution_count": null,
      "outputs": []
    },
    {
      "cell_type": "markdown",
      "source": [
        "Теперь изменим функцию так, чтобы она обновлялась покадрово  \n",
        "\n",
        "<details>\n",
        "  <summary>Подсказка</summary>\n",
        "\n",
        "Синус зависит от `frames`\n",
        "</details>"
      ],
      "metadata": {
        "id": "EuEe5l780U_u"
      }
    },
    {
      "cell_type": "code",
      "source": [
        "# Параметры волны\n",
        "frames = 100 # количество кадров"
      ],
      "metadata": {
        "id": "E0q0pwut0hnC"
      },
      "execution_count": null,
      "outputs": []
    },
    {
      "cell_type": "code",
      "source": [
        "# Функция для обновления анимации\n",
        "def update(frame):\n",
        "    Z = <...>\n",
        "    cax.set_array(Z)\n",
        "    ax.set_title(f'Frame {frame}')\n",
        "    return cax,"
      ],
      "metadata": {
        "id": "HNDWxwzx0lTx"
      },
      "execution_count": null,
      "outputs": []
    },
    {
      "cell_type": "code",
      "source": [
        "import matplotlib.animation as animation\n",
        "from IPython.display import HTML\n",
        "\n",
        "# Создаем фигуру и оси\n",
        "fig, ax = plt.subplots()\n",
        "cax = ax.imshow(np.zeros((size, size)), cmap='viridis', extent=(-5, 5, -5, 5), animated=True)\n",
        "fig.colorbar(cax, ax=ax)\n",
        "\n",
        "# Создаем анимацию\n",
        "ani = animation.FuncAnimation(fig='объект графика', func='функция задающая распределение волны', frames=frames, interval=50, blit=True)\n",
        "\n",
        "# Отображаем анимацию в Colab\n",
        "HTML(ani.to_jshtml())\n"
      ],
      "metadata": {
        "id": "3J56mI5dlgFM"
      },
      "execution_count": null,
      "outputs": []
    },
    {
      "cell_type": "markdown",
      "source": [
        "### Задача 5  \n",
        "\n",
        "Сгенерируйте набор данных, следующих нормальному распределению, и визуализируйте его с помощью гистограммы. Добавьте на тот же график линии, представляющие истинную плотность распределения и оценку плотности с использованием метода ядерной оценки плотности $\\left(KDE\\right)$.  \n",
        "\n",
        "<details>\n",
        "  <summary>Подсказка</summary>\n",
        "\n",
        "Используйте `sns.histplot` для построения гистограммы.  \n",
        "Используйте параметр `kde` в histplot для построения KDE.\n",
        "</details>"
      ],
      "metadata": {
        "id": "a0s-GFUZqqBq"
      }
    },
    {
      "cell_type": "code",
      "source": [
        "# Параметры произвольного распределения\n",
        "num_samples = <...>"
      ],
      "metadata": {
        "id": "hS7PLRwE8mE0"
      },
      "execution_count": null,
      "outputs": []
    },
    {
      "cell_type": "code",
      "source": [
        "# Генерация данных из произвольного распределения\n",
        "# Например, смесь нормальных распределений\n",
        "data1 = np.random.normal(loc=0, scale=1, size=num_samples // 2)\n",
        "data2 = np.random.normal(loc=5, scale=2, size=num_samples // 2)\n",
        "data = np.concatenate((data1, data2))\n"
      ],
      "metadata": {
        "id": "nb29rdkdqpBw"
      },
      "execution_count": null,
      "outputs": []
    },
    {
      "cell_type": "code",
      "source": [
        "# Параметры графика\n",
        "plt.figure(figsize=(12, 8))\n",
        "\n",
        "# Построение гистограммы c яоп\n",
        "\n",
        "<...>"
      ],
      "metadata": {
        "id": "M0wfLew48r0I"
      },
      "execution_count": null,
      "outputs": []
    },
    {
      "cell_type": "markdown",
      "source": [
        "Можно ли построить истинную плотность? Что показывает ЯОП (ядерная оценка плотности)?"
      ],
      "metadata": {
        "id": "dWjQEjDwr_5X"
      }
    },
    {
      "cell_type": "markdown",
      "source": [
        "## Море фантазии"
      ],
      "metadata": {
        "id": "IZE6jlCQsSUo"
      }
    },
    {
      "cell_type": "markdown",
      "source": [
        "### Задача 6  \n",
        "Создайте тепловую карту корреляции для набора данных, содержащего информацию о различных характеристиках автомобилей (например, цена, мощность двигателя, расход топлива и т.д.). Визуализация должна показывать, как различные характеристики коррелируют друг с другом.\n",
        "\n",
        "Требования:\n",
        "\n",
        "1) Используйте библиотеку Seaborn для создания тепловой карты корреляции.  \n",
        "2) Добавьте аннотации к каждой ячейке тепловой карты, показывающие значения корреляции.  \n",
        "3) Используйте цветовую шкалу для визуализации корреляции.  \n",
        "4) Добавьте заголовок и метки осей.   \n",
        "\n",
        "<details>\n",
        "  <summary>Подсказка</summary>\n",
        "\n",
        "Используйте `pandas.DataFrame.corr` для вычисления матрицы корреляции.  \n",
        "Используйте `seaborn.heatmap` для создания тепловой карты корреляции.  \n",
        "</details>\n"
      ],
      "metadata": {
        "id": "bXDyAdHXqAvZ"
      }
    },
    {
      "cell_type": "code",
      "source": [
        "# Загрузка набора данных\n",
        "data = sns.load_dataset('mpg')\n",
        "# Удаление категориальных переменных\n",
        "data = data.select_dtypes(include=['float64', 'int64'])"
      ],
      "metadata": {
        "id": "bOBjhZSx-fjQ"
      },
      "execution_count": null,
      "outputs": []
    },
    {
      "cell_type": "code",
      "source": [
        "# Вычисление матрицы корреляции\n",
        "\n",
        "<...>"
      ],
      "metadata": {
        "id": "rfemkV0L_Fcj"
      },
      "execution_count": null,
      "outputs": []
    },
    {
      "cell_type": "code",
      "source": [
        "# Создание тепловой карты корреляции\n",
        "\n",
        "<...>"
      ],
      "metadata": {
        "id": "oDQ7EfEr_H6K"
      },
      "execution_count": null,
      "outputs": []
    },
    {
      "cell_type": "markdown",
      "source": [
        "### Задача 7  \n",
        "\n",
        "Сгенерируйте набор данных, содержащий две переменные, и визуализируйте их с помощью scatter plot. Добавьте линию регрессии на график.  \n",
        "\n",
        "<details>\n",
        "  <summary>Подсказка</summary>\n",
        "\n",
        "Используйте `numpy.random.normal` для генерации данных.\n",
        "Используйте `seaborn.scatterplot` для построения scatter plot.\n",
        "Используйте `seaborn.regplot` для добавления линии регрессии.  \n",
        "</details>"
      ],
      "metadata": {
        "id": "EBzdPsDKuL9z"
      }
    },
    {
      "cell_type": "code",
      "source": [
        "# Генерация данных\n",
        "x = <...># независимая переменная"
      ],
      "metadata": {
        "id": "Dv-XXUtF8vS6"
      },
      "execution_count": null,
      "outputs": []
    },
    {
      "cell_type": "code",
      "source": [
        "y = 2 * x + np.random.normal(loc=0, scale=1, size=100) # зависимая (предсказываемая) переменная"
      ],
      "metadata": {
        "id": "Dv_F7bCft8Dh"
      },
      "execution_count": null,
      "outputs": []
    },
    {
      "cell_type": "code",
      "source": [
        "# Построение scatter plot и линии регрессии\n",
        "\n",
        "<...>"
      ],
      "metadata": {
        "id": "Z2YKJLuX80nu"
      },
      "execution_count": null,
      "outputs": []
    },
    {
      "cell_type": "markdown",
      "source": [
        "# Блок Pandas"
      ],
      "metadata": {
        "id": "lVhwq1XVwIkj"
      }
    },
    {
      "cell_type": "markdown",
      "source": [
        "## Series Sam"
      ],
      "metadata": {
        "id": "g9Td_ostwRXX"
      }
    },
    {
      "cell_type": "markdown",
      "source": [
        "### Задача 1  \n",
        "Это структура данных, которую можно рассматривать как одну колонку таблицы, одномерный массив.\n",
        "\n",
        "Создайте объект Series на основе имеющихся данных и выведите месяц своего рождения, а так же промежуток месяцев, когда бы вы хотели родиться (месяца должны быть последовательны):\n",
        "\n",
        "<details>\n",
        "  <summary>Подсказка</summary>\n",
        "\n",
        "Можно воспользоваться методами `.loc` или `.iloc`\n",
        "</details>"
      ],
      "metadata": {
        "id": "YXMt0FIUxqZD"
      }
    },
    {
      "cell_type": "code",
      "source": [
        "# Полный список месяцев\n",
        "months = [\n",
        "    \"Январь\", \"Февраль\", \"Март\", \"Апрель\", \"Май\", \"Июнь\",\n",
        "    \"Июль\", \"Август\", \"Сентябрь\", \"Октябрь\", \"Ноябрь\", \"Декабрь\"\n",
        "]\n",
        "\n",
        "# Полный список индексов\n",
        "indexes = [\n",
        "    \"Первый\", \"Второй\", \"Третий\", \"Четвёртый\", \"Пятый\", \"Шестой\",\n",
        "    \"Седьмой\", \"Восьмой\", \"Девятый\", \"Десятый\", \"Одиннадцатый\", \"Двенадцатый\"\n",
        "]\n",
        "\n",
        "# Создание Series\n",
        "#YOUR CODE\n"
      ],
      "metadata": {
        "id": "JLUmDkD1xVyc"
      },
      "execution_count": null,
      "outputs": []
    },
    {
      "cell_type": "markdown",
      "source": [
        "### Задача 2  \n",
        "\n",
        "1) Создайте Series с числовыми данными (случайным образом в диапазоне от 1 до 100)\n",
        "\n",
        "2) Вычислите среднее значение, сумму и максимальное значение"
      ],
      "metadata": {
        "id": "J-sS1Azczd7D"
      }
    },
    {
      "cell_type": "code",
      "source": [],
      "metadata": {
        "id": "Y53tqh1DzJEc"
      },
      "execution_count": null,
      "outputs": []
    },
    {
      "cell_type": "markdown",
      "source": [
        "### Задача 3  \n",
        "1) Создайте Series с числовыми данными  (случайным образом в диапазоне от 1 до 100)    \n",
        "\n",
        "2) Отфильтруйте значения, которые больше заданного порога (например 30)"
      ],
      "metadata": {
        "id": "b0Pc8hcozl7u"
      }
    },
    {
      "cell_type": "code",
      "source": [],
      "metadata": {
        "id": "-z-fMgjBz1AS"
      },
      "execution_count": null,
      "outputs": []
    },
    {
      "cell_type": "markdown",
      "source": [
        "### Задача 4  \n",
        "Создайте Series с числовыми данными  (случайным образом в диапазоне от 1 до 100) и примените функцию для преобразования значений (например, умножение на 2)\n",
        "\n",
        "<details>\n",
        "  <summary>Подсказка</summary>\n",
        "\n",
        "Используйте метод `apply()` для применения функции. Однако он работает медленнее, чем векторизированные операции, поэтому им стоит пользоваться только в крайних случаях\n",
        "</details>"
      ],
      "metadata": {
        "id": "kxwp_dxZz1lZ"
      }
    },
    {
      "cell_type": "code",
      "source": [
        "# Создание объекта Series\n",
        "\n",
        "<...>"
      ],
      "metadata": {
        "id": "QZsCD-Gez29K"
      },
      "execution_count": null,
      "outputs": []
    },
    {
      "cell_type": "code",
      "source": [
        "# Функция для сложного преобразования с использованием apply\n",
        "def apply_complex_transform(series):\n",
        "      \"\"\"\n",
        "    Применяет сложное преобразование к каждому элементу Series с использованием метода apply.\n",
        "\n",
        "    Parameters:\n",
        "    series (pd.Series): Входная Series с числовыми данными.\n",
        "\n",
        "    Returns:\n",
        "    pd.Series: Преобразованная Series.\n",
        "    \"\"\"\n",
        "    def complex_transform(x):\n",
        "        <...>\n",
        "            return <...>\n",
        "    return <...>\n",
        "\n",
        "# Функция для векторизированной операции\n",
        "def vectorized_operation(series):\n",
        "      \"\"\"\n",
        "    Выполняет векторизированную операцию умножения всех элементов Series на 2.\n",
        "\n",
        "    Parameters:\n",
        "    series (pd.Series): Входная Series с числовыми данными.\n",
        "\n",
        "    Returns:\n",
        "    pd.Series: Преобразованная Series.\n",
        "    \"\"\"\n",
        "    return <...>"
      ],
      "metadata": {
        "id": "njlJo3KR6TND"
      },
      "execution_count": null,
      "outputs": []
    },
    {
      "cell_type": "code",
      "source": [
        "# Результаты преобразований\n",
        "\n",
        "<...>"
      ],
      "metadata": {
        "id": "q-7gN6AZ7KPJ"
      },
      "execution_count": null,
      "outputs": []
    },
    {
      "cell_type": "code",
      "source": [
        "# Замеряем время выполнения функции с apply\n",
        "%%time\n",
        "transformed_series_apply = apply_complex_transform(series)"
      ],
      "metadata": {
        "id": "ejThnW6C6-sG"
      },
      "execution_count": null,
      "outputs": []
    },
    {
      "cell_type": "code",
      "source": [
        "# Замеряем время выполнения векторизированной операции\n",
        "%%time\n",
        "transformed_series_vectorized = vectorized_operation(series)"
      ],
      "metadata": {
        "id": "oCpbj0Ms7C2-"
      },
      "execution_count": null,
      "outputs": []
    },
    {
      "cell_type": "markdown",
      "source": [
        "### Задача 5  \n",
        "\n",
        "У вас есть два объекта Series, содержащих данные о продажах за два разных месяца. Объедините эти данные и визуализируйте их с помощью линейного графика, чтобы показать изменение продаж по дням.  \n",
        "\n",
        "<details>\n",
        "  <summary>Подсказка</summary>\n",
        "\n",
        "Для улучшения визуализации можно воспользоваться `plt.xticks`\n",
        "Для объединения даты можно воспользоваться `pd.concat`\n",
        "</details>"
      ],
      "metadata": {
        "id": "1dOFYgSDz1Vs"
      }
    },
    {
      "cell_type": "code",
      "source": [
        "# Создание данных о продажах за первый месяц\n",
        "sales_january = pd.Series([100, 150, 200, 250, 300, 350, 400],\n",
        "                          index=pd.date_range(start='2023-01-01', periods=7, freq='D'))\n",
        "\n",
        "# Создание данных о продажах за второй месяц\n",
        "sales_february = pd.Series([450, 500, 550, 600, 650, 700, 750],\n",
        "                           index=pd.date_range(start='2023-02-01', periods=7, freq='D'))\n",
        "\n",
        "# Объединение данных\n",
        "<...>\n"
      ],
      "metadata": {
        "id": "ZLyItzyZz3lJ"
      },
      "execution_count": null,
      "outputs": []
    },
    {
      "cell_type": "markdown",
      "source": [
        "## 🐼🐼🐼"
      ],
      "metadata": {
        "id": "u2RY6I171Lkc"
      }
    },
    {
      "cell_type": "markdown",
      "source": [
        "### Задача 6  \n",
        "Объект **DataFrame** лучше всего объяснять на примере обычной таблицы. В таблице есть строки и столбцы. Столбцами в объекте **DataFrame** выступают объекты **Series**, а их элементы будут строками.\n",
        "\n",
        "Создайте **DataFrame** (проще всего из словаря, в котором ключ это название колонки, значения &mdash; данные массива)  \n",
        "\n",
        "Данные могут быть как текстового так и числового, созданный объект в этом задании можно использовать в 7, тогда лучше создать объект с числовыми данными"
      ],
      "metadata": {
        "id": "ZHnxGgXd021t"
      }
    },
    {
      "cell_type": "code",
      "source": [],
      "metadata": {
        "id": "uYHqYsBA03nX"
      },
      "execution_count": null,
      "outputs": []
    },
    {
      "cell_type": "markdown",
      "source": [
        "### Задача 7  \n",
        "Повторите задания 2&mdash;4 из этого блока, но только для объекта Dataframe, с соответвующими методами  "
      ],
      "metadata": {
        "id": "52oQ_Dxb02sa"
      }
    },
    {
      "cell_type": "code",
      "source": [],
      "metadata": {
        "id": "sqKu7XiD04FV"
      },
      "execution_count": null,
      "outputs": []
    },
    {
      "cell_type": "markdown",
      "source": [
        "### Задача 8  \n",
        "У вас есть DataFrame, содержащий данные о продажах различных товаров в нескольких категориях. Вычислите общую сумму продаж для каждой категории и визуализируйте результаты с помощью столбчатой диаграммы.  \n",
        "\n",
        "<details>\n",
        "  <summary>Подсказка</summary>\n",
        "\n",
        "Используйте метод `groupby()` для применения функции.\n",
        "</details>"
      ],
      "metadata": {
        "id": "k66nXMPW02kN"
      }
    },
    {
      "cell_type": "code",
      "source": [
        "data = pd.DataFrame({\n",
        "    'Category': ['Electronics', 'Books', 'Electronics', 'Books', 'Furniture', 'Electronics', 'Furniture'],\n",
        "    'Sales': [100, 150, 200, 250, 300, 350, 400]\n",
        "})\n",
        "\n"
      ],
      "metadata": {
        "id": "01OQBPZm04fB"
      },
      "execution_count": null,
      "outputs": []
    },
    {
      "cell_type": "markdown",
      "source": [
        "### Задача 9  \n",
        "\n",
        "У вас есть два DataFrame, содержащих данные о продажах и клиентах. Объедините эти данные по общему ключу и визуализируйте распределение продаж по возрасту клиентов.  "
      ],
      "metadata": {
        "id": "UcKAsDMt02bN"
      }
    },
    {
      "cell_type": "code",
      "source": [
        "# Создание DataFrame с данными о продажах\n",
        "sales_data = pd.DataFrame({\n",
        "    'ClientID': [1, 2, 3, 4, 5],\n",
        "    'Sales': [100, 150, 200, 250, 300]\n",
        "})\n",
        "\n",
        "# Создание DataFrame с данными о клиентах\n",
        "clients_data = pd.DataFrame({\n",
        "    'ClientID': [1, 2, 3, 4, 5],\n",
        "    'Age': [25, 30, 35, 40, 45]\n",
        "})\n",
        "\n",
        "<...>"
      ],
      "metadata": {
        "id": "_LuSyEpE047U"
      },
      "execution_count": null,
      "outputs": []
    },
    {
      "cell_type": "markdown",
      "source": [
        "### Задача 10  \n",
        "\n",
        "У вас есть DataFrame, содержащий данные о различных характеристиках автомобилей. Вычислите корреляционную матрицу и визуализируйте её с помощью тепловой карты"
      ],
      "metadata": {
        "id": "c4ZrKXzx02SH"
      }
    },
    {
      "cell_type": "code",
      "source": [
        "# Создание DataFrame с данными о характеристиках автомобилей\n",
        "np.random.seed(0)  # Для воспроизводимости результатов\n",
        "data = pd.DataFrame({\n",
        "    'Price': np.random.randint(20000, 50000, size=100),\n",
        "    'Mileage': np.random.randint(1000, 50000, size=100),\n",
        "    'Horsepower': np.random.randint(100, 400, size=100),\n",
        "    'FuelEfficiency': np.random.randint(15, 40, size=100),\n",
        "    'Age': np.random.randint(1, 10, size=100)\n",
        "})\n",
        "\n",
        "<...>\n"
      ],
      "metadata": {
        "id": "4KPdd9qC3owE"
      },
      "execution_count": null,
      "outputs": []
    },
    {
      "cell_type": "markdown",
      "source": [
        "Что можно сказать исходя из полученного рисунка?"
      ],
      "metadata": {
        "id": "p321kbhy3vjU"
      }
    },
    {
      "cell_type": "markdown",
      "source": [
        "# Оставь надежду всяк сюда входящий (необязательные усложненные задачи)"
      ],
      "metadata": {
        "id": "mSsJBWxXoqHH"
      }
    },
    {
      "cell_type": "markdown",
      "source": [
        "### Задача 1  \n",
        "Напишите функцию `encode_rle(x)`, реализующую кодирование длин серий (Run&mdash;length encoding). По входному вектору x необходимо вернуть кортеж из двух векторов одинаковой длины. Первый содержит числа, а второй &mdash; сколько раз их нужно повторить."
      ],
      "metadata": {
        "id": "tl8-BZrnLJDg"
      }
    },
    {
      "cell_type": "code",
      "source": [
        "def encode_rle(x):\n",
        "    pass"
      ],
      "metadata": {
        "id": "iSbKKpUTLL9P"
      },
      "execution_count": null,
      "outputs": []
    },
    {
      "cell_type": "markdown",
      "source": [
        "### Задача 2  \n",
        "Даны матрицы $A$ размера $(n \\times d)$ и $B$ размера $(m \\times d)$. Напишите функцию `find_equal_lines(A, B)`, которая найдет в $A$ все строки, содержащиеся в $B$."
      ],
      "metadata": {
        "id": "1w9dQyXgIpX9"
      }
    },
    {
      "cell_type": "code",
      "source": [
        "def find_equal_lines(A, B):\n",
        "    pass"
      ],
      "metadata": {
        "id": "_eSQuZREIotd"
      },
      "execution_count": null,
      "outputs": []
    },
    {
      "cell_type": "code",
      "source": [
        "A = np.array([\n",
        "    [1, 2, 3],\n",
        "    [1, 2, 1],\n",
        "    [4, 5, 6],\n",
        "    [1, 2, 1],\n",
        "])\n",
        "B = np.array([\n",
        "    [4, 5, 6],\n",
        "    [4, 5, 6],\n",
        "    [1, 2, 3],\n",
        "])\n",
        "indices = find_equal_lines(A, B)\n",
        "\n",
        "assert (indices == [0, 2]).all()\n",
        "\n",
        "A = np.array([\n",
        "    [0, 1],\n",
        "    [0, 3],\n",
        "    [0, 2],\n",
        "    [1, 1],\n",
        "    [0, 1],\n",
        "])\n",
        "B = np.array([\n",
        "    [0, 1],\n",
        "    [1, 1],\n",
        "])\n",
        "indices = find_equal_lines(A, B)\n",
        "\n",
        "assert (indices == [0, 3, 4]).all()"
      ],
      "metadata": {
        "id": "zYnZSnoJIxQo"
      },
      "execution_count": null,
      "outputs": []
    },
    {
      "cell_type": "markdown",
      "source": [
        "Решение (потом удалить)"
      ],
      "metadata": {
        "id": "HMCv26RJKq4q"
      }
    },
    {
      "cell_type": "code",
      "source": [
        "def find_equal_lines(A, B):\n",
        "    match_by_rows = np.all(A[:, None] == B, axis=2)\n",
        "    match_ind_of_A = np.any(match_by_rows, axis=1)\n",
        "    return np.where(match_ind_of_A)[0]"
      ],
      "metadata": {
        "id": "iH3k5niNKo-v"
      },
      "execution_count": null,
      "outputs": []
    },
    {
      "cell_type": "markdown",
      "source": [
        "### Задача 3  \n",
        "Группа шахтёров отправилась в богатую золотом шахту размером $H \\times W$. В каждом квадратном участке шахты содержится определённое количество золота $(в\\ граммах).$\n",
        "\n",
        "Шахтёры могут выбрать прямоугольную рабочую область размером $h \\times w$ с вероятностным распределением $Q$. Чтобы добыча была максимально эффективной, необходимо понять, сколько золота можно получить, если начать разработку в каждой возможной позиции прямоугольного участка.\n",
        "\n",
        "Ваша задача — вычислить сумму золота для каждой возможной рабочей области размером $h \\times w$ в шахте.\n",
        "\n",
        "Необходимо написать функцию `calc_expectations(h, w, X, Q)`, где:\n",
        "\n",
        "* $h$, $w$ &mdash; размеры рабочего участка;\n",
        "* $X$ &mdash; матрица целых чисел размера $H$ на $W$; $X[i, j]$ содержит количество золота в клетке $(i, j)$;\n",
        "* $Q$ &mdash; матрица вещественных чисел размера $H$ на $W$, задающая вероятностное распределение; $Q[i, j]$ &mdash; вероятность начала разработки шахты в точке $i$, $j$.\n",
        "Функция возвращает матрицу $E$ размера $H$ на $W$; $E[i, j]$ &mdash; математическое ожидание общего числа золота в $i$, $j$ клетке.\n"
      ],
      "metadata": {
        "id": "V8200y0_Kt0W"
      }
    },
    {
      "cell_type": "code",
      "source": [
        "def calc_expectations(h, w, X, Q):\n",
        "    pass"
      ],
      "metadata": {
        "id": "j_YquPOCK-68"
      },
      "execution_count": null,
      "outputs": []
    },
    {
      "cell_type": "code",
      "source": [
        "assert np.isclose(calc_expectations(\n",
        "    h=3, w=2,\n",
        "    X=np.array([[1, 7, 7, 3, 9, 9, 1, 6, 5, 4, 2, 8, 1],\n",
        "       [4, 2, 3, 3, 5, 2, 9, 8, 1, 6, 4, 0, 8],\n",
        "       [7, 0, 1, 0, 2, 5, 8, 6, 6, 1, 2, 5, 3],\n",
        "       [6, 6, 4, 7, 5, 6, 3, 6, 3, 7, 6, 3, 0],\n",
        "       [5, 0, 1, 2, 3, 1, 6, 5, 7, 6, 6, 7, 4],\n",
        "       [7, 5, 0, 7, 0, 7, 7, 6, 8, 2, 2, 1, 0],\n",
        "       [7, 9, 3, 4, 3, 1, 8, 1, 2, 4, 4, 8, 5],\n",
        "       [8, 9, 7, 2, 3, 3, 5, 2, 6, 6, 3, 4, 0],\n",
        "       [0, 6, 1, 4, 7, 7, 4, 3, 0, 6, 4, 7, 0],\n",
        "       [0, 1, 2, 3, 3, 2, 4, 2, 9, 0, 0, 7, 1],\n",
        "       [3, 9, 6, 8, 8, 8, 4, 1, 4, 1, 3, 7, 8],\n",
        "       [9, 3, 9, 8, 6, 8, 5, 6, 8, 8, 7, 3, 7],\n",
        "       [8, 1, 6, 5, 4, 2, 2, 2, 4, 7, 5, 3, 0],\n",
        "       [3, 6, 5, 1, 9, 4, 1, 6, 1, 5, 1, 0, 4],\n",
        "       [9, 9, 3, 9, 7, 2, 1, 6, 2, 0, 3, 1, 2]]),\n",
        "    Q=np.array([[7.06128335e-03, 4.32854712e-03, 4.97282659e-03, 4.28975248e-04,\n",
        "        1.52144978e-02, 1.14482542e-02, 2.43938459e-04, 4.80466426e-03,\n",
        "        9.64372202e-03, 7.03184347e-04, 3.84977818e-03, 1.05776223e-02,\n",
        "        5.14362886e-03],\n",
        "       [9.24436313e-03, 2.98413494e-03, 3.81136898e-03, 1.27570431e-04,\n",
        "        1.60259127e-03, 9.37890642e-03, 1.61064289e-03, 7.28946679e-03,\n",
        "        1.01010935e-03, 2.15836495e-03, 1.31738567e-05, 1.14783479e-02,\n",
        "        9.97960200e-03],\n",
        "       [1.67218293e-04, 4.16501424e-04, 5.28334039e-03, 4.02056616e-03,\n",
        "        3.00437192e-03, 1.03583698e-03, 2.27912907e-03, 2.88989768e-04,\n",
        "        6.18067342e-04, 5.58853705e-03, 3.04100386e-03, 3.77874165e-03,\n",
        "        1.33713333e-02],\n",
        "       [2.45054020e-03, 1.48131719e-02, 9.37826740e-03, 4.01778158e-03,\n",
        "        5.62975005e-03, 1.23175453e-03, 1.92210924e-03, 6.50115831e-04,\n",
        "        2.58719085e-03, 8.82945015e-03, 4.16173256e-03, 1.11269840e-03,\n",
        "        1.80684370e-02],\n",
        "       [1.09214591e-02, 2.02144550e-04, 3.70331471e-03, 3.21898170e-03,\n",
        "        1.32230961e-03, 3.38907853e-04, 2.86048746e-02, 6.57763115e-03,\n",
        "        1.03342216e-02, 3.36307060e-03, 1.39462107e-03, 1.51722255e-03,\n",
        "        4.77644269e-03],\n",
        "       [1.24691673e-02, 1.14883425e-04, 2.34377535e-03, 1.01890955e-02,\n",
        "        5.34093343e-04, 1.22731966e-02, 2.95428821e-05, 2.06061711e-02,\n",
        "        9.88025717e-03, 1.12686415e-02, 2.65915247e-03, 3.21341448e-03,\n",
        "        7.17936871e-03],\n",
        "       [2.13617503e-03, 5.71984734e-03, 2.79848540e-03, 3.40777682e-03,\n",
        "        1.15609179e-02, 3.91498088e-05, 1.80787329e-03, 1.03214913e-02,\n",
        "        7.73538022e-03, 1.11142219e-02, 2.40040379e-02, 8.42967363e-03,\n",
        "        9.26405047e-04],\n",
        "       [6.90240005e-03, 8.16304951e-03, 6.25103891e-03, 1.41531521e-03,\n",
        "        7.89217265e-04, 1.24966032e-03, 3.14008357e-04, 7.66669841e-04,\n",
        "        6.56264219e-03, 7.81723070e-03, 3.06695412e-03, 5.11854896e-04,\n",
        "        5.06722512e-03],\n",
        "       [2.70175496e-03, 9.20090175e-03, 6.10387733e-03, 1.02609252e-03,\n",
        "        1.86663943e-02, 2.08808201e-03, 8.71209671e-03, 2.18200558e-02,\n",
        "        7.60681873e-03, 4.67633850e-03, 4.65817470e-03, 9.21299105e-04,\n",
        "        1.39679240e-02],\n",
        "       [2.58766787e-03, 6.52264534e-03, 9.65563514e-03, 3.60784283e-03,\n",
        "        8.79132503e-04, 2.09843044e-02, 3.17645988e-02, 2.04132132e-03,\n",
        "        2.85657713e-04, 1.83877515e-04, 9.11058226e-04, 8.90937467e-04,\n",
        "        3.88812912e-03],\n",
        "       [7.22181563e-04, 4.19326167e-03, 4.95612899e-03, 3.09710053e-03,\n",
        "        7.22291467e-03, 8.10639226e-03, 6.08628598e-04, 1.40044281e-02,\n",
        "        1.61217102e-03, 2.98495531e-03, 1.41543605e-03, 1.93246291e-03,\n",
        "        1.58283598e-02],\n",
        "       [3.50661973e-03, 1.59955713e-03, 1.82168727e-03, 2.46812348e-03,\n",
        "        2.58454429e-03, 2.48769676e-03, 4.61508131e-03, 1.24920430e-03,\n",
        "        6.66907801e-04, 1.78574112e-03, 1.37351482e-04, 9.51255891e-04,\n",
        "        3.20192712e-03],\n",
        "       [8.72525597e-03, 2.63267794e-03, 4.05495868e-03, 9.03072585e-04,\n",
        "        2.91856530e-03, 2.92281946e-03, 1.56003992e-03, 1.58268947e-03,\n",
        "        8.33970186e-04, 8.88024788e-03, 1.66234524e-03, 4.09011375e-03,\n",
        "        3.33138968e-03],\n",
        "       [7.77890419e-03, 1.30059099e-03, 6.20490348e-03, 1.56875193e-02,\n",
        "        5.03494568e-04, 2.19313582e-03, 1.12671022e-02, 3.33937831e-03,\n",
        "        1.15536395e-02, 2.49040352e-03, 3.04110068e-03, 7.23072815e-05,\n",
        "        3.23531924e-04],\n",
        "       [6.21812399e-06, 1.99343356e-03, 1.15646432e-03, 3.78298926e-03,\n",
        "        1.95689674e-03, 9.06572986e-03, 5.81139437e-03, 2.37368024e-03,\n",
        "        6.48178061e-04, 6.13076244e-03, 1.85840964e-04, 1.01424413e-03,\n",
        "        1.11364064e-02]])\n",
        "), np.array([[0.00706, 0.07973, 0.06511, 0.01621, 0.14079, 0.23996, 0.01169,\n",
        "        0.03029, 0.07224, 0.04139, 0.00911, 0.11542, 0.01572],\n",
        "       [0.06522, 0.04724, 0.04829, 0.02802, 0.08687, 0.07529, 0.20414,\n",
        "        0.11159, 0.02275, 0.08109, 0.0269 , 0.     , 0.29743],\n",
        "       [0.11531, 0.     , 0.0218 , 0.     , 0.0488 , 0.20842, 0.20797,\n",
        "        0.0991 , 0.14193, 0.01972, 0.03071, 0.16369, 0.16299],\n",
        "       [0.07117, 0.18046, 0.14675, 0.18647, 0.09201, 0.1313 , 0.05238,\n",
        "        0.08424, 0.03733, 0.14554, 0.14275, 0.07076, 0.     ],\n",
        "       [0.0677 , 0.     , 0.0338 , 0.05924, 0.06364, 0.01256, 0.21248,\n",
        "        0.20161, 0.14739, 0.18792, 0.15827, 0.10504, 0.1705 ],\n",
        "       [0.18089, 0.20486, 0.     , 0.22996, 0.     , 0.14931, 0.3108 ,\n",
        "        0.35034, 0.40508, 0.09253, 0.06335, 0.01406, 0.     ],\n",
        "       [0.17869, 0.28407, 0.04465, 0.10265, 0.0907 , 0.02607, 0.34475,\n",
        "        0.06795, 0.13091, 0.21478, 0.21521, 0.32974, 0.13021],\n",
        "       [0.17206, 0.31955, 0.17774, 0.05281, 0.08369, 0.07934, 0.07857,\n",
        "        0.06769, 0.33524, 0.32627, 0.17979, 0.16754, 0.     ],\n",
        "       [0.     , 0.20894, 0.03824, 0.08401, 0.25806, 0.24075, 0.05684,\n",
        "        0.13123, 0.     , 0.27308, 0.22135, 0.29114, 0.     ],\n",
        "       [0.     , 0.03608, 0.09179, 0.08418, 0.07915, 0.08931, 0.26045,\n",
        "        0.13084, 0.35175, 0.     , 0.     , 0.07672, 0.02525],\n",
        "       [0.01803, 0.23336, 0.24379, 0.22757, 0.276  , 0.46358, 0.28906,\n",
        "        0.07895, 0.18948, 0.01735, 0.04449, 0.07511, 0.29943],\n",
        "       [0.06135, 0.0574 , 0.25874, 0.20485, 0.11916, 0.33812, 0.34283,\n",
        "        0.3257 , 0.15888, 0.06015, 0.05193, 0.01872, 0.18685],\n",
        "       [0.10363, 0.02138, 0.11555, 0.08651, 0.07678, 0.05249, 0.0406 ,\n",
        "        0.04724, 0.0798 , 0.11735, 0.08433, 0.03057, 0.     ],\n",
        "       [0.06003, 0.15326, 0.08807, 0.03114, 0.22559, 0.05444, 0.02505,\n",
        "        0.14168, 0.01923, 0.13105, 0.018  , 0.     , 0.04788],\n",
        "       [0.14859, 0.20193, 0.05203, 0.28611, 0.18027, 0.03912, 0.03282,\n",
        "        0.15561, 0.04066, 0.     , 0.06717, 0.01007, 0.03994]]),\n",
        "atol=1e-5).all()\n",
        "assert np.isclose(calc_expectations(\n",
        "    h=3, w=3,\n",
        "    X=np.array([[2, 7, 9, 0, 2, 5, 5, 7, 3, 4, 2, 5],\n",
        "       [6, 1, 0, 5, 2, 3, 3, 5, 8, 6, 6, 5],\n",
        "       [1, 3, 2, 4, 5, 7, 2, 2, 8, 9, 6, 0],\n",
        "       [6, 6, 8, 4, 3, 6, 2, 1, 9, 1, 7, 8],\n",
        "       [5, 2, 1, 0, 3, 6, 3, 5, 9, 5, 1, 2],\n",
        "       [4, 8, 0, 5, 0, 1, 1, 2, 1, 1, 5, 2],\n",
        "       [9, 4, 8, 2, 4, 4, 0, 1, 2, 5, 0, 4],\n",
        "       [7, 1, 2, 7, 5, 0, 6, 0, 6, 7, 8, 3],\n",
        "       [1, 0, 3, 9, 6, 9, 4, 6, 8, 6, 1, 7],\n",
        "       [4, 9, 5, 2, 5, 4, 7, 0, 6, 0, 8, 2]]),\n",
        "    Q=np.array([[1.71238669e-03, 1.55413744e-02, 2.08862328e-03, 3.55538496e-03,\n",
        "        1.95990451e-03, 1.00044745e-02, 2.91725111e-03, 1.20132768e-02,\n",
        "        1.26490502e-03, 9.64540307e-03, 6.98106184e-03, 2.34805879e-03],\n",
        "       [1.16212068e-03, 1.28573381e-02, 3.73942916e-03, 1.26997497e-02,\n",
        "        1.15507775e-02, 5.12999149e-02, 4.46599947e-03, 8.96195926e-03,\n",
        "        3.26562433e-03, 1.33592903e-02, 1.48783045e-02, 7.29692512e-03],\n",
        "       [7.22816115e-03, 8.29477674e-04, 1.40258234e-03, 8.70178335e-04,\n",
        "        9.72182219e-03, 2.61014193e-03, 4.47422839e-03, 4.07366574e-03,\n",
        "        1.81118860e-02, 2.38088827e-03, 2.15111239e-03, 1.02622269e-02],\n",
        "       [3.07640514e-02, 1.27290011e-02, 6.56841434e-03, 1.36221826e-02,\n",
        "        3.00983011e-03, 1.10971636e-02, 3.14050824e-03, 2.13304509e-02,\n",
        "        7.82599183e-03, 5.13074506e-03, 8.26935784e-04, 3.32621001e-03],\n",
        "       [1.15239211e-02, 2.62619638e-03, 1.65784614e-02, 1.86215764e-03,\n",
        "        3.11562959e-02, 5.22875845e-03, 1.22810739e-03, 1.10905158e-02,\n",
        "        5.75947601e-03, 3.32349134e-04, 9.00095074e-05, 4.52646230e-03],\n",
        "       [9.30858835e-03, 1.37756404e-02, 3.54106584e-04, 1.30903138e-02,\n",
        "        4.97349468e-03, 9.94261422e-03, 1.28403371e-02, 1.06304637e-02,\n",
        "        1.51078738e-02, 8.71856605e-04, 1.23456817e-02, 1.50775997e-04],\n",
        "       [1.84394935e-02, 3.58954710e-03, 3.81524909e-03, 2.94691671e-03,\n",
        "        5.92932110e-03, 6.16479143e-03, 1.38398733e-02, 8.92694844e-03,\n",
        "        7.73568044e-03, 3.91594942e-04, 2.83525880e-04, 2.83183640e-02],\n",
        "       [2.13611537e-02, 3.50875073e-03, 6.60119919e-03, 2.20712423e-03,\n",
        "        2.89168752e-03, 1.21228726e-02, 2.68380063e-03, 3.49115251e-03,\n",
        "        1.06256239e-02, 1.01182590e-02, 3.61555220e-03, 9.32395320e-03],\n",
        "       [1.92236786e-02, 9.98425924e-03, 6.79936677e-03, 4.86395882e-04,\n",
        "        8.19761179e-03, 9.44571517e-03, 4.38652132e-05, 2.01314236e-02,\n",
        "        3.64075006e-03, 4.93460683e-03, 5.32134959e-03, 1.54272693e-03],\n",
        "       [2.15072174e-02, 5.43825762e-03, 7.69196773e-03, 3.16267475e-03,\n",
        "        6.96389199e-03, 3.58720374e-04, 3.07680501e-02, 1.95104145e-02,\n",
        "        8.05919945e-03, 6.98290882e-03, 9.88057241e-03, 6.54008765e-03]])\n",
        "), np.array([[0.00342, 0.12078, 0.17408, 0.     , 0.01521, 0.0776 , 0.07441,\n",
        "        0.17455, 0.04859, 0.09169, 0.03578, 0.09487],\n",
        "       [0.01725, 0.03127, 0.     , 0.25241, 0.07119, 0.27321, 0.24659,\n",
        "        0.44831, 0.26311, 0.29106, 0.29637, 0.27255],\n",
        "       [0.0101 , 0.11799, 0.09312, 0.21434, 0.23794, 0.72991, 0.19801,\n",
        "        0.20164, 0.47639, 0.65769, 0.43223, 0.     ],\n",
        "       [0.23493, 0.39342, 0.61824, 0.26127, 0.18955, 0.69889, 0.20274,\n",
        "        0.11145, 0.68085, 0.08444, 0.47552, 0.4769 ],\n",
        "       [0.24758, 0.1314 , 0.09025, 0.     , 0.25438, 0.47507, 0.215  ,\n",
        "        0.32137, 0.69331, 0.38018, 0.04261, 0.05805],\n",
        "       [0.20639, 0.64582, 0.     , 0.40603, 0.     , 0.09398, 0.08262,\n",
        "        0.17306, 0.08895, 0.07808, 0.24145, 0.0552 ],\n",
        "       [0.35345, 0.23705, 0.64009, 0.11728, 0.32283, 0.32518, 0.     ,\n",
        "        0.07989, 0.17432, 0.30423, 0.     , 0.18924],\n",
        "       [0.34376, 0.06998, 0.16151, 0.34922, 0.21405, 0.     , 0.42833,\n",
        "        0.     , 0.51529, 0.4753 , 0.48877, 0.19626],\n",
        "       [0.05902, 0.     , 0.27997, 0.35945, 0.23925, 0.45353, 0.24528,\n",
        "        0.4611 , 0.56895, 0.41998, 0.04667, 0.44695],\n",
        "       [0.24837, 0.72921, 0.51058, 0.09176, 0.22501, 0.18335, 0.51433,\n",
        "        0.     , 0.59373, 0.     , 0.50543, 0.11652]]),\n",
        "atol=1e-5).all()"
      ],
      "metadata": {
        "id": "GDJae71MLAK5"
      },
      "execution_count": null,
      "outputs": []
    }
  ]
}